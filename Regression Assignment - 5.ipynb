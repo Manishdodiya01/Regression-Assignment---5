{
 "cells": [
  {
   "cell_type": "markdown",
   "id": "c472da27-b987-484b-889f-577ff465c359",
   "metadata": {
    "jp-MarkdownHeadingCollapsed": true,
    "tags": []
   },
   "source": [
    "# Q1. What is Elastic Net Regression and how does it differ from other regression techniques?"
   ]
  },
  {
   "cell_type": "markdown",
   "id": "518547a1-acfb-47f7-a405-67d6b15cb5f2",
   "metadata": {},
   "source": [
    "Elastic Net Regression is a type of regression analysis that combines the properties of both Lasso regression and Ridge regression. It's used for linear regression problems, where the goal is to predict a continuous dependent variable based on one or more independent variables.\n",
    "\n",
    "Here's how Elastic Net differs from other regression techniques:\n",
    "\n",
    "1. **Ridge Regression (L2 Regularization):**\n",
    "   - Ridge regression adds a penalty term to the linear regression equation, which is proportional to the square of the coefficients (L2 norm).\n",
    "   - It's used to prevent multicollinearity and reduce the impact of irrelevant features by shrinking their coefficients towards zero.\n",
    "   - Ridge regression tends to include all of the features in the model, but with smaller coefficients.\n",
    "\n",
    "2. **Lasso Regression (L1 Regularization):**\n",
    "   - Lasso regression also adds a penalty term, but this time it's proportional to the absolute value of the coefficients (L1 norm).\n",
    "   - It has the ability to perform feature selection by driving some coefficients to exactly zero, effectively excluding them from the model.\n",
    "   - Lasso tends to select only a subset of the most important features.\n",
    "\n",
    "3. **Elastic Net Regression:**\n",
    "   - Elastic Net combines both L1 (Lasso) and L2 (Ridge) penalties in a linear regression model.\n",
    "   - It aims to find a balance between the benefits of Ridge (which can handle multicollinearity well) and Lasso (which performs feature selection).\n",
    "   - Elastic Net is useful when there are multiple correlated features and you want to perform feature selection while still taking into account the correlations.\n",
    "\n",
    "In summary, Elastic Net regression is a compromise between Ridge and Lasso regression, providing a more flexible approach to handle different types of datasets. It's particularly useful when there are many correlated features, and you want a balance between feature selection and handling multicollinearity."
   ]
  },
  {
   "cell_type": "markdown",
   "id": "24583fd7-9961-4dce-ab89-e018830787ec",
   "metadata": {
    "jp-MarkdownHeadingCollapsed": true,
    "tags": []
   },
   "source": [
    "# Q2. How do you choose the optimal values of the regularization parameters for Elastic Net Regression?"
   ]
  },
  {
   "cell_type": "markdown",
   "id": "01dc22d5-6d6a-423d-862a-45e53fc9f230",
   "metadata": {},
   "source": [
    "Choosing the optimal values of the regularization parameters (alpha and l1_ratio) for Elastic Net Regression involves a process called hyperparameter tuning. Here are the steps you can follow:\n",
    "\n",
    "1. **Grid Search:**\n",
    "   - One common approach is to perform a grid search, which involves specifying a range of possible values for the hyperparameters and then evaluating the model's performance for each combination.\n",
    "   - For Elastic Net, you'll be tuning two hyperparameters: `alpha` (controls the total amount of regularization) and `l1_ratio` (the balance between L1 and L2 penalties).\n",
    "\n",
    "2. **Cross-Validation:**\n",
    "   - Use a cross-validation technique (e.g., k-fold cross-validation) to assess the model's performance for each set of hyperparameters.\n",
    "   - This involves splitting the dataset into k subsets, training the model on k-1 of them, and testing it on the remaining subset. This process is repeated k times, and the performance metrics are averaged.\n",
    "\n",
    "3. **Scoring Metric:**\n",
    "   - Choose an appropriate scoring metric for evaluation. For regression problems, common metrics include Mean Squared Error (MSE), Root Mean Squared Error (RMSE), or R-squared (R2) score. The goal is to minimize the chosen metric.\n",
    "\n",
    "4. **Define the Hyperparameter Grid:**\n",
    "   - Specify a range of values for `alpha` and `l1_ratio` that you want to explore. For example, you might try different values of alpha from 0.1 to 1.0 and l1_ratio from 0.1 to 0.9.\n",
    "\n",
    "5. **Grid Search Execution:**\n",
    "   - Apply the grid search algorithm, which will train and evaluate the model for every combination of hyperparameters in the grid.\n",
    "\n",
    "6. **Select the Best Hyperparameters:**\n",
    "   - The combination of hyperparameters that gives the best performance (lowest MSE, RMSE, or highest R2 score) on the validation set is considered the optimal choice.\n",
    "\n",
    "7. **Final Model Training:**\n",
    "   - Once you've identified the optimal hyperparameters, retrain the Elastic Net model using the entire dataset (including both the training and validation sets) with those hyperparameters.\n",
    "\n",
    "8. **Evaluate on Test Data:**\n",
    "   - Finally, assess the model's performance on a separate test set that it has never seen before. This provides an unbiased estimate of how well the model will perform on new, unseen data.\n",
    "\n",
    "Remember that the choice of hyperparameters can significantly impact the performance of your model, so it's crucial to perform this tuning process. Additionally, it's a good practice to validate the model's performance on multiple different test sets or using techniques like nested cross-validation to ensure the results are robust."
   ]
  },
  {
   "cell_type": "markdown",
   "id": "69e47300-14a9-448e-8459-9fa0c900477e",
   "metadata": {
    "jp-MarkdownHeadingCollapsed": true,
    "tags": []
   },
   "source": [
    "# Q3. What are the advantages and disadvantages of Elastic Net Regression?"
   ]
  },
  {
   "cell_type": "markdown",
   "id": "47c691f7-b89d-4f88-a3e4-7ee687ba7d1a",
   "metadata": {},
   "source": [
    "**Advantages of Elastic Net Regression:**\n",
    "\n",
    "1. **Handles Multicollinearity:**\n",
    "   - Elastic Net can handle highly correlated independent variables (multicollinearity) better than ordinary linear regression. It combines the benefits of both Lasso and Ridge regression in this regard.\n",
    "\n",
    "2. **Feature Selection:**\n",
    "   - Like Lasso regression, Elastic Net can perform feature selection by driving some coefficients to zero. This is useful when you have a large number of features, and you want to identify the most important ones.\n",
    "\n",
    "3. **Flexibility in Regularization:**\n",
    "   - The `l1_ratio` hyperparameter allows you to control the balance between L1 and L2 penalties, providing flexibility in the level of sparsity and shrinkage applied to the coefficients.\n",
    "\n",
    "4. **Robust to Outliers:**\n",
    "   - While not as robust as Ridge regression, Elastic Net can still handle some level of outliers in the data.\n",
    "\n",
    "**Disadvantages of Elastic Net Regression:**\n",
    "\n",
    "1. **Complexity in Hyperparameter Tuning:**\n",
    "   - Determining the optimal values of `alpha` and `l1_ratio` requires careful hyperparameter tuning, which can be computationally expensive and time-consuming.\n",
    "\n",
    "2. **Interpretability:**\n",
    "   - As with other regularized regression techniques, interpreting the coefficients in Elastic Net can be more challenging compared to simple linear regression.\n",
    "\n",
    "3. **May Not Always Outperform Simple Models:**\n",
    "   - In cases where there is low multicollinearity and a small number of features, simpler models like ordinary linear regression might perform just as well or even better than Elastic Net.\n",
    "\n",
    "4. **Assumption of Linearity:**\n",
    "   - Like linear regression, Elastic Net assumes that the relationship between the independent and dependent variables is linear. It may not perform well for data with nonlinear relationships.\n",
    "\n",
    "5. **Sensitive to Scaling:**\n",
    "   - Elastic Net, like many regression techniques, can be sensitive to the scale of the variables. It's important to standardize or normalize the features before applying Elastic Net.\n",
    "\n",
    "Overall, Elastic Net is a powerful regression technique that strikes a balance between feature selection and handling multicollinearity. It's particularly useful in situations where there are many correlated features, but it may not always be the best choice for all types of datasets. It's important to consider the specific characteristics of the data when deciding whether to use Elastic Net or another regression method."
   ]
  },
  {
   "cell_type": "markdown",
   "id": "4944d08f-04f7-4268-92a7-441adc33d968",
   "metadata": {
    "jp-MarkdownHeadingCollapsed": true,
    "tags": []
   },
   "source": [
    "# Q4. What are some common use cases for Elastic Net Regression?"
   ]
  },
  {
   "cell_type": "markdown",
   "id": "75c44097-4545-41bd-8837-a44acc83ae14",
   "metadata": {},
   "source": [
    "Elastic Net Regression is a versatile technique that can be applied in various scenarios. Here are some common use cases for Elastic Net Regression:\n",
    "\n",
    "1. **Genomics and Bioinformatics:**\n",
    "   - Analyzing gene expression data, where there are often a large number of potentially correlated genes.\n",
    "\n",
    "2. **Finance and Economics:**\n",
    "   - Modeling financial data, such as predicting stock prices or analyzing economic indicators, where multiple factors can influence outcomes.\n",
    "\n",
    "3. **Marketing and Customer Analytics:**\n",
    "   - Predicting customer behavior based on various marketing features and demographic information.\n",
    "\n",
    "4. **Environmental Modeling:**\n",
    "   - Analyzing environmental data, such as climate variables and pollutant levels, to make predictions or identify influential factors.\n",
    "\n",
    "5. **Healthcare and Medicine:**\n",
    "   - Predicting patient outcomes or disease progression based on a range of medical and demographic features.\n",
    "\n",
    "6. **Real Estate Valuation:**\n",
    "   - Estimating property values using factors like location, size, amenities, and other relevant features.\n",
    "\n",
    "7. **Image and Signal Processing:**\n",
    "   - Feature selection and regression in fields like computer vision or signal processing, where there may be a large number of potentially relevant features.\n",
    "\n",
    "8. **Social Sciences:**\n",
    "   - Analyzing social survey data to understand factors influencing human behavior, attitudes, or opinions.\n",
    "\n",
    "9. **Text Analysis:**\n",
    "   - Predicting variables based on features extracted from text data, such as sentiment analysis, topic modeling, etc.\n",
    "\n",
    "10. **Engineering and Quality Control:**\n",
    "    - Predicting product quality based on various engineering parameters and manufacturing process variables.\n",
    "\n",
    "11. **Risk Assessment and Insurance:**\n",
    "    - Assessing risks and predicting insurance claims based on relevant factors like demographics, location, and past behavior.\n",
    "\n",
    "12. **Energy Consumption Forecasting:**\n",
    "    - Predicting energy consumption in buildings or industrial processes using various environmental and operational variables.\n",
    "\n",
    "It's worth noting that Elastic Net can be a valuable tool in any situation where there are potentially correlated features, and where feature selection or handling multicollinearity is important. However, as with any modeling technique, it's crucial to understand the specific characteristics of the data and the problem at hand before applying Elastic Net Regression."
   ]
  },
  {
   "cell_type": "markdown",
   "id": "094ad6f6-3292-44e9-83fe-c80751d49b1c",
   "metadata": {
    "jp-MarkdownHeadingCollapsed": true,
    "tags": []
   },
   "source": [
    "# Q5. How do you interpret the coefficients in Elastic Net Regression?"
   ]
  },
  {
   "cell_type": "markdown",
   "id": "8efdf89c-5d23-47e1-85e5-1fa8e2567434",
   "metadata": {},
   "source": [
    "Interpreting the coefficients in Elastic Net Regression is similar to interpreting coefficients in other regression techniques. However, due to the regularization effects of Elastic Net, there are some nuances to keep in mind:\n",
    "\n",
    "1. **Magnitude of Coefficients:**\n",
    "   - The magnitude of a coefficient represents the change in the dependent variable for a one-unit change in the corresponding independent variable, holding all other variables constant. In Elastic Net, coefficients can be shrunken towards zero or completely eliminated (if they are not contributing significantly).\n",
    "\n",
    "2. **Sign of Coefficients:**\n",
    "   - The sign of a coefficient (positive or negative) indicates the direction of the relationship between the independent variable and the dependent variable. For example, a positive coefficient implies that an increase in the independent variable leads to an increase in the dependent variable (and vice versa).\n",
    "\n",
    "3. **Importance of Features:**\n",
    "   - If some coefficients are exactly zero, it means that those features have been effectively excluded from the model. This is a form of feature selection provided by Elastic Net.\n",
    "\n",
    "4. **Interaction Effects:**\n",
    "   - Elastic Net coefficients can also provide insights into interaction effects between variables. For example, if you have an interaction term between two independent variables, the coefficients for the interaction term and the individual variables can give insights into the combined effect.\n",
    "\n",
    "5. **Relative Importance:**\n",
    "   - It's important to consider the relative magnitudes of coefficients. Larger coefficients suggest that the corresponding variables have a stronger impact on the dependent variable compared to variables with smaller coefficients.\n",
    "\n",
    "6. **Scale of Variables:**\n",
    "   - Be mindful of the scale of the independent variables. If variables are on different scales, the coefficients may not be directly comparable in terms of their impact.\n",
    "\n",
    "7. **Regularization Effects:**\n",
    "   - Due to the regularization effects of Elastic Net, some coefficients may be smaller than they would be in a standard linear regression model. This can make it more challenging to make direct interpretations.\n",
    "\n",
    "8. **Overall Model Fit:**\n",
    "   - Always consider the overall fit of the model, as well as other diagnostic measures, in addition to interpreting individual coefficients.\n",
    "\n",
    "Remember that interpreting coefficients in any regression model, including Elastic Net, requires a thorough understanding of the data, the model assumptions, and the context of the problem. Additionally, it's often helpful to visualize the relationships between variables to gain further insights."
   ]
  },
  {
   "cell_type": "markdown",
   "id": "58ff5b72-d41f-4764-85f0-04ab3c896d28",
   "metadata": {
    "jp-MarkdownHeadingCollapsed": true,
    "tags": []
   },
   "source": [
    "# Q6. How do you handle missing values when using Elastic Net Regression?"
   ]
  },
  {
   "cell_type": "markdown",
   "id": "58afb5f7-5690-4fe3-a617-e743fbd48682",
   "metadata": {},
   "source": [
    "Handling missing values is an important preprocessing step when using Elastic Net Regression. Here are some common approaches:\n",
    "\n",
    "1. **Imputation:**\n",
    "   - One of the most common methods is to impute (fill in) missing values. This can be done using techniques like mean imputation (replacing missing values with the mean of the variable), median imputation (replacing with the median), or more advanced methods like k-Nearest Neighbors imputation or regression imputation.\n",
    "\n",
    "2. **Delete Rows with Missing Values:**\n",
    "   - If the proportion of missing values is small and not likely to introduce significant bias, you may choose to simply remove the rows with missing data.\n",
    "\n",
    "3. **Indicator Variables (Dummy Variables):**\n",
    "   - For categorical variables, you can create an additional category to represent missing values. This allows the model to account for the absence of data in a specific category.\n",
    "\n",
    "4. **Prediction of Missing Values:**\n",
    "   - In some cases, you can use other variables to predict the missing values. This can be done using regression, K-Nearest Neighbors, or other predictive modeling techniques.\n",
    "\n",
    "5. **Use a Separate Category for Missing Values:**\n",
    "   - For categorical variables, you can create a separate category specifically for missing values.\n",
    "\n",
    "6. **Advanced Imputation Techniques:**\n",
    "   - Techniques like Multiple Imputation can be used to generate multiple plausible imputations for missing values, which can provide more reliable estimates of uncertainty.\n",
    "\n",
    "It's important to note that the choice of method depends on the nature and extent of missingness, as well as the specific characteristics of the data. Additionally, be cautious when imputing data, as it introduces some level of uncertainty and may impact the results of your model.\n",
    "\n",
    "After handling missing values, it's essential to reevaluate the quality of your data and consider how the imputation method might impact the assumptions of your model. Always document the steps taken for missing value handling to ensure transparency in your analysis."
   ]
  },
  {
   "cell_type": "markdown",
   "id": "835f7fce-08f0-404b-b784-c9ba4993b9d1",
   "metadata": {
    "jp-MarkdownHeadingCollapsed": true,
    "tags": []
   },
   "source": [
    "# Q7. How do you use Elastic Net Regression for feature selection?"
   ]
  },
  {
   "cell_type": "markdown",
   "id": "a288d7c1-9d19-46bd-901b-c53a87ddaede",
   "metadata": {},
   "source": [
    "Elastic Net Regression can be a powerful tool for feature selection due to its ability to drive some coefficients to zero. Here's how you can use Elastic Net for feature selection:\n",
    "\n",
    "1. **Standardize Variables:**\n",
    "   - Before applying Elastic Net, it's recommended to standardize (or normalize) the independent variables. This ensures that each variable has the same scale, which is important for the regularization process.\n",
    "\n",
    "2. **Choose the Alpha and L1 Ratio:**\n",
    "   - Determine the values of the hyperparameters `alpha` and `l1_ratio` through a process of hyperparameter tuning (e.g., using grid search and cross-validation).\n",
    "\n",
    "3. **Fit the Elastic Net Model:**\n",
    "   - Train the Elastic Net regression model using the selected hyperparameters on your standardized dataset.\n",
    "\n",
    "4. **Examine Coefficients:**\n",
    "   - Analyze the coefficients of the model. Some coefficients may be exactly zero, indicating that the corresponding features have been effectively excluded from the model. These are the features selected by Elastic Net.\n",
    "\n",
    "5. **Identify Important Features:**\n",
    "   - Consider the non-zero coefficients as the selected features. These are the variables that contribute significantly to predicting the dependent variable.\n",
    "\n",
    "6. **Validate Feature Selection:**\n",
    "   - It's a good practice to validate the selected features using techniques like cross-validation or evaluating the model's performance on a separate test set.\n",
    "\n",
    "7. **Optional: Fine-Tune Alpha and L1 Ratio:**\n",
    "   - If needed, you can further fine-tune the hyperparameters to optimize feature selection.\n",
    "\n",
    "8. **Retrain Final Model:**\n",
    "   - Once you've identified the important features, retrain the Elastic Net model using only those features. This can improve the model's performance and reduce computational complexity.\n",
    "\n",
    "9. **Interpret Results:**\n",
    "   - Interpret the selected features in the context of your problem. Consider the coefficients and their sign to understand the direction and strength of their influence on the dependent variable.\n",
    "\n",
    "Keep in mind that feature selection should be done with care. It's important to consider the domain knowledge and the potential impact of excluding certain features on the model's performance. Additionally, always validate the selected features to ensure they lead to a robust and reliable model."
   ]
  },
  {
   "cell_type": "markdown",
   "id": "4ded2998-b9a0-474f-a9d7-46cd8e944922",
   "metadata": {
    "jp-MarkdownHeadingCollapsed": true,
    "tags": []
   },
   "source": [
    "# Q8. How do you pickle and unpickle a trained Elastic Net Regression model in Python?"
   ]
  },
  {
   "cell_type": "code",
   "execution_count": 19,
   "id": "c6da8592-487c-4b6d-b0b6-afb108a4c33f",
   "metadata": {},
   "outputs": [
    {
     "name": "stdout",
     "output_type": "stream",
     "text": [
      "PREDICTS [615137.00972387]\n",
      "SCORE 0.9584301138154928\n"
     ]
    },
    {
     "name": "stderr",
     "output_type": "stream",
     "text": [
      "/opt/conda/lib/python3.10/site-packages/sklearn/base.py:409: UserWarning: X does not have valid feature names, but ElasticNet was fitted with feature names\n",
      "  warnings.warn(\n"
     ]
    }
   ],
   "source": [
    "import pandas as pd\n",
    "from sklearn.linear_model import ElasticNet\n",
    "\n",
    "EC = ElasticNet()\n",
    "\n",
    "df = pd.read_csv('Book1.csv')\n",
    "\n",
    "x = df.drop('price' , axis = 1)\n",
    "y = df.price\n",
    "\n",
    "EC.fit(x,y)\n",
    "PREDICT = EC.predict([[3200]])\n",
    "SCORE = EC.score(x,y)\n",
    "\n",
    "\n",
    "print('PREDICTS' , PREDICT)\n",
    "print('SCORE' , SCORE)"
   ]
  },
  {
   "cell_type": "markdown",
   "id": "0d7cc368-7e44-47b4-8e0f-c70e604dcd69",
   "metadata": {},
   "source": [
    "## PICKLE"
   ]
  },
  {
   "cell_type": "code",
   "execution_count": 23,
   "id": "3a1fad96-6a7e-42fe-83e9-e1c36d38ec0e",
   "metadata": {},
   "outputs": [],
   "source": [
    "import pickle\n",
    "\n",
    "with open ('p.pck' , 'wb') as file:\n",
    "    pickle.dump(EC , file)"
   ]
  },
  {
   "cell_type": "markdown",
   "id": "efee9b15-34b1-4a84-8310-4949d9e924f4",
   "metadata": {
    "tags": []
   },
   "source": [
    "## UNPICKLE"
   ]
  },
  {
   "cell_type": "code",
   "execution_count": 25,
   "id": "7a2ee351-76d6-4067-a72c-62213ea27f4a",
   "metadata": {},
   "outputs": [
    {
     "name": "stderr",
     "output_type": "stream",
     "text": [
      "/opt/conda/lib/python3.10/site-packages/sklearn/base.py:409: UserWarning: X does not have valid feature names, but ElasticNet was fitted with feature names\n",
      "  warnings.warn(\n"
     ]
    },
    {
     "data": {
      "text/plain": [
       "array([615137.00972387])"
      ]
     },
     "execution_count": 25,
     "metadata": {},
     "output_type": "execute_result"
    }
   ],
   "source": [
    "with open('p.pck' , 'rb') as f:\n",
    "    p = pickle.load(f)\n",
    "    \n",
    "p.predict([[3200]])"
   ]
  },
  {
   "cell_type": "markdown",
   "id": "c21f958d-2e98-42fc-a345-211807a30325",
   "metadata": {
    "jp-MarkdownHeadingCollapsed": true,
    "tags": []
   },
   "source": [
    "# Q9. What is the purpose of pickling a model in machine learning?"
   ]
  },
  {
   "cell_type": "markdown",
   "id": "8b73d05b-ebfa-4163-94cc-0cbd0c0e16ba",
   "metadata": {},
   "source": [
    "Pickling a model in machine learning serves several important purposes:\n",
    "\n",
    "1. **Serialization for Persistence:**\n",
    "   - Pickling allows you to save a trained model as a file on disk. This enables you to store the model's parameters, architecture, and other attributes so that it can be reused later without the need to retrain it.\n",
    "\n",
    "2. **Deployment and Productionization:**\n",
    "   - Once a model is trained, it can be pickled and then deployed in production environments. This is crucial for incorporating machine learning models into real-world applications.\n",
    "\n",
    "3. **Reproducibility:**\n",
    "   - Pickling ensures that you can recreate the exact same model at a later time. This is important for reproducibility in research, as well as in production systems where consistent model behavior is desired.\n",
    "\n",
    "4. **Sharing Models:**\n",
    "   - Pickling allows you to share your trained model with others. This is particularly useful for collaborations, competitions, or when you want to distribute pre-trained models as part of a library or application.\n",
    "\n",
    "5. **Faster Deployment:**\n",
    "   - Loading a pre-trained model from a pickle file is typically much faster than retraining the model from scratch, especially for complex models that require substantial computational resources.\n",
    "\n",
    "6. **Model Versioning:**\n",
    "   - By pickling models, you can easily version control them along with your codebase. This helps in keeping track of changes and allows you to revert to previous versions if needed.\n",
    "\n",
    "7. **Integration with External Systems:**\n",
    "   - Pickled models can be integrated with other systems or languages, allowing you to use a Python-trained model in applications written in different languages.\n",
    "\n",
    "8. **Avoiding Dependency Issues:**\n",
    "   - Pickling allows you to separate the process of model training from model deployment. This means you can train a model in one environment (e.g., a Jupyter notebook) and deploy it in a different environment without worrying about dependencies.\n",
    "\n",
    "9. **Caching and Performance Optimization:**\n",
    "   - In situations where you have limited computational resources, you can pickle and load pre-trained models as needed, saving time and resources.\n",
    "\n",
    "10. **Ensemble Learning:**\n",
    "    - In ensemble learning, you can pickle individual base models and then load them for aggregation or stacking to create a more powerful ensemble model.\n",
    "\n",
    "Overall, pickling is a critical step in the machine learning workflow, enabling the seamless transition from model training to model deployment and integration into applications."
   ]
  },
  {
   "cell_type": "code",
   "execution_count": null,
   "id": "4c41b270-9cad-4a0e-ad15-c95e192d22c4",
   "metadata": {},
   "outputs": [],
   "source": []
  }
 ],
 "metadata": {
  "kernelspec": {
   "display_name": "Python 3 (ipykernel)",
   "language": "python",
   "name": "python3"
  },
  "language_info": {
   "codemirror_mode": {
    "name": "ipython",
    "version": 3
   },
   "file_extension": ".py",
   "mimetype": "text/x-python",
   "name": "python",
   "nbconvert_exporter": "python",
   "pygments_lexer": "ipython3",
   "version": "3.10.8"
  }
 },
 "nbformat": 4,
 "nbformat_minor": 5
}
